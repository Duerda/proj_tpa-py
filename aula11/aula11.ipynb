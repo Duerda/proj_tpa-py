{
 "cells": [
  {
   "cell_type": "markdown",
   "metadata": {},
   "source": [
    "# Atividade 11 - Estudo de Caso Supermercado"
   ]
  },
  {
   "cell_type": "markdown",
   "metadata": {},
   "source": [
    ">Seguindo as aulas de estrutura de dados, crie um algoritmo para seguinte ocasião: Um supermercado possui três caixas. O primeiro é o caixa rápido, até 20 unidades, o segundo é para idosos com no mínimo 60 anos e o ultimo é para os demais clientes. Utilizando a estruturas já realizadas em sala crie um algoritmo que no seu método deverá possuir as entradas: nome, idade, e unidades. Insira 10 pessoas a essas filas deixando para o algoritmo definir qual fila do caixa deverá seguir.\n"
   ]
  },
  {
   "cell_type": "code",
   "execution_count": 27,
   "metadata": {},
   "outputs": [
    {
     "name": "stdout",
     "output_type": "stream",
     "text": [
      "João (idade: 30, 5 unidades) está na fila do caixa rápido\n",
      "Maria (idade: 65, 3 unidades) está na fila do caixa rápido\n",
      "Carlos (idade: 75, 15 unidades) está na fila do caixa rápido\n",
      "Ana (idade: 40, 25 unidades) está na fila do caixa normal\n",
      "Lucas (idade: 20, 10 unidades) está na fila do caixa rápido\n",
      "Fernanda (idade: 70, 2 unidades) está na fila do caixa rápido\n",
      "Paulo (idade: 80, 12 unidades) está na fila do caixa rápido\n",
      "Cláudia (idade: 59, 18 unidades) está na fila do caixa rápido\n",
      "Gustavo (idade: 22, 15 unidades) está na fila do caixa rápido\n",
      "Eliane (idade: 68, 20 unidades) está na fila do caixa rápido\n",
      "Caixa rápido tem 9 pessoas na fila\n",
      "Caixa para idosos tem 0 pessoas na fila\n",
      "Caixa normal tem 1 pessoas na fila\n",
      "\n",
      "Atendendo clientes...\n",
      "\n",
      "João foi atendido(a) no Caixa rápido\n",
      "Maria foi atendido(a) no Caixa rápido\n",
      "Carlos foi atendido(a) no Caixa rápido\n",
      "Lucas foi atendido(a) no Caixa rápido\n",
      "Fernanda foi atendido(a) no Caixa rápido\n",
      "Paulo foi atendido(a) no Caixa rápido\n",
      "Cláudia foi atendido(a) no Caixa rápido\n",
      "Gustavo foi atendido(a) no Caixa rápido\n",
      "Eliane foi atendido(a) no Caixa rápido\n",
      "Ana foi atendido(a) no Caixa normal\n",
      "Caixa rápido tem 0 pessoas na fila\n",
      "Caixa para idosos tem 0 pessoas na fila\n",
      "Caixa normal tem 0 pessoas na fila\n"
     ]
    }
   ],
   "source": [
    "from collections import deque\n",
    "\n",
    "# Classe Supermercado com 3 caixas\n",
    "class Supermercado:\n",
    "    def __init__(self):\n",
    "        self.caixa_rapido = deque()  # Fila para até 20 unidades\n",
    "        self.caixa_idosos = deque()  # Fila para idosos com mais de 60 anos\n",
    "        self.caixa_normal = deque()  \n",
    "    \n",
    "  \n",
    "    def adicionar_cliente(self, nome, idade, unidades):\n",
    "        if unidades <= 20:\n",
    "            self.caixa_rapido.append(nome)\n",
    "            print(f\"{nome} (idade: {idade}, {unidades} unidades) está na fila do caixa rápido\")\n",
    "        elif idade >= 60:\n",
    "            self.caixa_idosos.append(nome)\n",
    "            print(f\"{nome} (idade: {idade}, {unidades} unidades) está na fila do caixa para idosos\")\n",
    "        else:\n",
    "            self.caixa_normal.append(nome)\n",
    "            print(f\"{nome} (idade: {idade}, {unidades} unidades) está na fila do caixa normal\")\n",
    "    \n",
    "    # Método para atender cliente da fila\n",
    "    def atender_cliente(self, caixa, nome_caixa):\n",
    "        if caixa:\n",
    "            nome = caixa.popleft()\n",
    "            print(f\"{nome} foi atendido(a) no {nome_caixa}\")\n",
    "        else:\n",
    "            print(f\"A fila do {nome_caixa} está vazia\")\n",
    "    \n",
    "   \n",
    "    def exibir_tamanhos(self):\n",
    "        print(f\"Caixa rápido tem {len(self.caixa_rapido)} pessoas na fila\")\n",
    "        print(f\"Caixa para idosos tem {len(self.caixa_idosos)} pessoas na fila\")\n",
    "        print(f\"Caixa normal tem {len(self.caixa_normal)} pessoas na fila\")\n",
    "\n",
    "# Criando o supermercado\n",
    "supermercado = Supermercado()\n",
    "\n",
    "# Adicionando clientes nas filas com base nos dados fornecidos\n",
    "clientes = [\n",
    "    ('João', 30, 5),\n",
    "    ('Maria', 65, 3),\n",
    "    ('Carlos', 75, 15),\n",
    "    ('Ana', 40, 25),\n",
    "    ('Lucas', 20, 10),\n",
    "    ('Fernanda', 70, 2),\n",
    "    ('Paulo', 80, 12),\n",
    "    ('Cláudia', 59, 18),\n",
    "    ('Gustavo', 22, 15),\n",
    "    ('Eliane', 68, 20)\n",
    "]\n",
    "\n",
    "# Inserindo clientes nas filas\n",
    "for cliente in clientes:\n",
    "    nome, idade, unidades = cliente\n",
    "    supermercado.adicionar_cliente(nome, idade, unidades)\n",
    "\n",
    "# Exibindo os tamanhos das filas antes de começar o atendimento\n",
    "supermercado.exibir_tamanhos()\n",
    "print(\"Atendendo clientes...\")\n",
    "while supermercado.caixa_rapido:\n",
    "    supermercado.atender_cliente(supermercado.caixa_rapido, \"Caixa rápido\")\n",
    "while supermercado.caixa_idosos:\n",
    "    supermercado.atender_cliente(supermercado.caixa_idosos, \"Caixa para idosos\")\n",
    "while supermercado.caixa_normal:\n",
    "    supermercado.atender_cliente(supermercado.caixa_normal, \"Caixa normal\")\n",
    "\n",
    "\n",
    "supermercado.exibir_tamanhos()\n"
   ]
  }
 ],
 "metadata": {
  "kernelspec": {
   "display_name": "Python 3",
   "language": "python",
   "name": "python3"
  },
  "language_info": {
   "codemirror_mode": {
    "name": "ipython",
    "version": 3
   },
   "file_extension": ".py",
   "mimetype": "text/x-python",
   "name": "python",
   "nbconvert_exporter": "python",
   "pygments_lexer": "ipython3",
   "version": "3.12.2"
  }
 },
 "nbformat": 4,
 "nbformat_minor": 2
}
